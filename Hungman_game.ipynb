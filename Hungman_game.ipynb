{
  "nbformat": 4,
  "nbformat_minor": 0,
  "metadata": {
    "colab": {
      "provenance": [],
      "authorship_tag": "ABX9TyMPNmUhkZXaeYRPfLw+9Fsx",
      "include_colab_link": true
    },
    "kernelspec": {
      "name": "python3",
      "display_name": "Python 3"
    },
    "language_info": {
      "name": "python"
    }
  },
  "cells": [
    {
      "cell_type": "markdown",
      "metadata": {
        "id": "view-in-github",
        "colab_type": "text"
      },
      "source": [
        "<a href=\"https://colab.research.google.com/github/Illakiyaa/PYTHON-PROJECT/blob/main/Hungman_game.ipynb\" target=\"_parent\"><img src=\"https://colab.research.google.com/assets/colab-badge.svg\" alt=\"Open In Colab\"/></a>"
      ]
    },
    {
      "cell_type": "markdown",
      "metadata": {
        "id": "gWgz9LH6uuet"
      },
      "source": [
        "####  Hungman game\n",
        "\n"
      ]
    },
    {
      "cell_type": "markdown",
      "source": [
        "####  Step 1\n",
        "check wether the given letter in the secret word"
      ],
      "metadata": {
        "id": "SXN90SZ8GLyp"
      }
    },
    {
      "cell_type": "code",
      "source": [
        "def is_word_guessed(secret_word, letters_guessed):\n",
        "\n",
        "  temp = 0\n",
        "  for word in secret_word:\n",
        "    if word not in letters_guessed:\n",
        "      temp =-1\n",
        "      break\n",
        "\n",
        "  if temp == 0:\n",
        "    return True\n",
        "  else:\n",
        "    return False"
      ],
      "metadata": {
        "id": "gBXFnPBTF_RJ"
      },
      "execution_count": 4,
      "outputs": []
    },
    {
      "cell_type": "markdown",
      "source": [
        "#### Step 2\n",
        "to provide gaps for the missing letters"
      ],
      "metadata": {
        "id": "MeXONU0aGoEQ"
      }
    },
    {
      "cell_type": "code",
      "source": [
        "import random\n",
        "import string\n",
        "\n",
        "def get_guessed_word(secret_word, letters_guessed):\n",
        "\n",
        "    for i in secret_word:\n",
        "      if i not in letters_guessed:\n",
        "        secret_word=secret_word.replace(i,'_ ')\n",
        "    return secret_word"
      ],
      "metadata": {
        "id": "zadGiM9JHHCS"
      },
      "execution_count": 5,
      "outputs": []
    },
    {
      "cell_type": "markdown",
      "source": [
        "#### Step 3\n",
        "TO SHOW THE REMAINING LETTERS FROM THE GUESSED LETTERS IN THE ALPHABET"
      ],
      "metadata": {
        "id": "qNyklD6qHLqJ"
      }
    },
    {
      "cell_type": "code",
      "source": [
        "def get_available_letters(letters_guessed):\n",
        "  available_letters = string.ascii_lowercase\n",
        "  for letter in letters_guessed:\n",
        "    available_letters = available_letters.replace(letter, \"\")\n",
        "  return (available_letters)"
      ],
      "metadata": {
        "id": "GOhpmkJXHnfD"
      },
      "execution_count": 6,
      "outputs": []
    },
    {
      "cell_type": "markdown",
      "source": [
        "#### THE COMPLETE HANGMAN GAME"
      ],
      "metadata": {
        "id": "MeED2PuCHwGh"
      }
    },
    {
      "cell_type": "code",
      "source": [
        "import random\n",
        "import string\n",
        "\n",
        "def no_of_unique_words(string):\n",
        "  lis=[]\n",
        "  c = 0\n",
        "  for i in string:\n",
        "    if i not in lis:\n",
        "      c+=1\n",
        "      lis.append(i)\n",
        "  return c\n",
        "\n",
        "def hangman(secret_word):\n",
        "  no_of_guess = 6\n",
        "  letters_guessed = []\n",
        "  total_score = 0\n",
        "\n",
        "\n",
        "  print(\"welcome to the game Hangman\")\n",
        "  print(f'i am thinking of a word that is {len(secret_word)} letters long')\n",
        "  print(\"-----------------------------------------\")\n",
        "  while True:\n",
        "\n",
        "    if (no_of_guess ==0 and is_word_guessed(secret_word, letters_guessed) == False) or is_word_guessed(secret_word, letters_guessed):\n",
        "\n",
        "      if(is_word_guessed(secret_word, letters_guessed)):\n",
        "        total_score =no_of_guess * no_of_unique_words(secret_word)\n",
        "        print('congratulation you won!!')\n",
        "        print(f'your total score for this game is:{total_score}')\n",
        "      elif no_of_guess == 0 and is_word_guessed(secret_word, letters_guessed) == False:\n",
        "        print(f'sorry you ran out of guesses, the secret word was{secret_word}')\n",
        "\n",
        "    else:\n",
        "      available_letter = get_available_letters(letters_guessed)\n",
        "      print(f'you have {no_of_guess} guesses left')\n",
        "      print(f'available letters:{available_letter}')\n",
        "\n",
        "      letter_guessed = input('please guess a letter')\n",
        "\n",
        "      if(letter_guessed.isalpha()==False):\n",
        "        print('this is not a valid letter')\n",
        "        print('------------------------------')\n",
        "        continue\n",
        "      elif(letter_guessed in letters_guessed):\n",
        "        print('you have alredy guessed that letter')\n",
        "        print('--------------------------------------')\n",
        "        continue\n",
        "\n",
        "      letter_guessed = letter_guessed.lower()\n",
        "      letters_guessed.append(letter_guessed)\n",
        "\n",
        "      if letter_guessed in secret_word:\n",
        "        print(f'good guess:{get_guessed_word(secret_word, letters_guessed)}' )\n",
        "      elif letter_guessed in ['a','e','i','o','u']:\n",
        "        print(f'oops! that letter is not in the word:{get_guessed_word(secret_word, letters_guessed)}')\n",
        "        no_of_guess -= 2\n",
        "      else:\n",
        "        print(f'oops! that letter is not in the word:{get_guessed_word(secret_word, letters_guessed)}')\n",
        "        no_of_guess -= 1\n",
        "      print(\"------------------------------------\")\n",
        "      continue\n",
        "    break\n",
        "\n",
        "hangman(\"apple\")"
      ],
      "metadata": {
        "colab": {
          "base_uri": "https://localhost:8080/"
        },
        "id": "zqxn_zkl-HZy",
        "outputId": "a8e45084-a792-4470-c9ae-9cdaddbc3a8f"
      },
      "execution_count": 7,
      "outputs": [
        {
          "output_type": "stream",
          "name": "stdout",
          "text": [
            "welcome to the game Hangman\n",
            "i am thinking of a word that is 5 letters long\n",
            "-----------------------------------------\n",
            "you have 6 guesses left\n",
            "available letters:abcdefghijklmnopqrstuvwxyz\n",
            "please guess a lettera\n",
            "good guess:a_ _ _ _ \n",
            "------------------------------------\n",
            "you have 6 guesses left\n",
            "available letters:bcdefghijklmnopqrstuvwxyz\n",
            "please guess a lettere\n",
            "good guess:a_ _ _ e\n",
            "------------------------------------\n",
            "you have 6 guesses left\n",
            "available letters:bcdfghijklmnopqrstuvwxyz\n",
            "please guess a letterl\n",
            "good guess:a_ _ le\n",
            "------------------------------------\n",
            "you have 6 guesses left\n",
            "available letters:bcdfghijkmnopqrstuvwxyz\n",
            "please guess a lettero\n",
            "oops! that letter is not in the word:a_ _ le\n",
            "------------------------------------\n",
            "you have 4 guesses left\n",
            "available letters:bcdfghijkmnpqrstuvwxyz\n",
            "please guess a letterg\n",
            "oops! that letter is not in the word:a_ _ le\n",
            "------------------------------------\n",
            "you have 3 guesses left\n",
            "available letters:bcdfhijkmnpqrstuvwxyz\n",
            "please guess a letterp\n",
            "good guess:apple\n",
            "------------------------------------\n",
            "congratulation you won!!\n",
            "your total score for this game is:12\n"
          ]
        }
      ]
    },
    {
      "cell_type": "markdown",
      "source": [
        "A SAMPLE GAME"
      ],
      "metadata": {
        "id": "XZY_Nh_IImlw"
      }
    },
    {
      "cell_type": "code",
      "source": [
        "\n",
        "words = [\"army\", \"beautiful\", \"became\", \"if\", \"actually\", \"beside\", \"between\",\"come\",\"eye\",\"five\",\"fur\",\"imposter\", \"problem\" ,\"revenge\" ,\"few\" ,\"circle\" ,\"district\",\"trade\",\"quota\",\"stop\",\"depressed\",\"disorder\",\"dentist\"]\n",
        "#choose a random word from list using random.choice() function\n",
        "random_word =random.choice(words)\n",
        "\n",
        "#check you function\n",
        "hangman(random_word)"
      ],
      "metadata": {
        "colab": {
          "base_uri": "https://localhost:8080/"
        },
        "id": "lRdt2yqJIn5s",
        "outputId": "29c469fc-712d-4db0-b020-10267de4d5bc"
      },
      "execution_count": 8,
      "outputs": [
        {
          "output_type": "stream",
          "name": "stdout",
          "text": [
            "welcome to the game Hangman\n",
            "i am thinking of a word that is 6 letters long\n",
            "-----------------------------------------\n",
            "you have 6 guesses left\n",
            "available letters:abcdefghijklmnopqrstuvwxyz\n",
            "please guess a letterA\n",
            "good guess:_ _ _ a_ _ \n",
            "------------------------------------\n",
            "you have 6 guesses left\n",
            "available letters:bcdefghijklmnopqrstuvwxyz\n",
            "please guess a letterB\n",
            "good guess:b_ _ a_ _ \n",
            "------------------------------------\n",
            "you have 6 guesses left\n",
            "available letters:cdefghijklmnopqrstuvwxyz\n",
            "please guess a letterE\n",
            "good guess:be_ a_ e\n",
            "------------------------------------\n",
            "you have 6 guesses left\n",
            "available letters:cdfghijklmnopqrstuvwxyz\n",
            "please guess a letterY\n",
            "oops! that letter is not in the word:be_ a_ e\n",
            "------------------------------------\n",
            "you have 5 guesses left\n",
            "available letters:cdfghijklmnopqrstuvwxz\n",
            "please guess a letterO\n",
            "oops! that letter is not in the word:be_ a_ e\n",
            "------------------------------------\n",
            "you have 3 guesses left\n",
            "available letters:cdfghijklmnpqrstuvwxz\n",
            "please guess a letterC\n",
            "good guess:beca_ e\n",
            "------------------------------------\n",
            "you have 3 guesses left\n",
            "available letters:dfghijklmnpqrstuvwxz\n",
            "please guess a letters\n",
            "oops! that letter is not in the word:beca_ e\n",
            "------------------------------------\n",
            "you have 2 guesses left\n",
            "available letters:dfghijklmnpqrtuvwxz\n",
            "please guess a letterm\n",
            "good guess:became\n",
            "------------------------------------\n",
            "congratulation you won!!\n",
            "your total score for this game is:10\n"
          ]
        }
      ]
    }
  ]
}