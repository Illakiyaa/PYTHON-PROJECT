{
  "nbformat": 4,
  "nbformat_minor": 0,
  "metadata": {
    "colab": {
      "provenance": [],
      "authorship_tag": "ABX9TyP5H7jMfzukIg8TEif8+WpA",
      "include_colab_link": true
    },
    "kernelspec": {
      "name": "python3",
      "display_name": "Python 3"
    },
    "language_info": {
      "name": "python"
    }
  },
  "cells": [
    {
      "cell_type": "markdown",
      "metadata": {
        "id": "view-in-github",
        "colab_type": "text"
      },
      "source": [
        "<a href=\"https://colab.research.google.com/github/Illakiyaa/PYTHON-PROJECT/blob/main/The_Minion_Game_.ipynb\" target=\"_parent\"><img src=\"https://colab.research.google.com/assets/colab-badge.svg\" alt=\"Open In Colab\"/></a>"
      ]
    },
    {
      "cell_type": "markdown",
      "metadata": {
        "id": "gWgz9LH6uuet"
      },
      "source": [
        "####  The Minion Game\n"
      ]
    },
    {
      "cell_type": "code",
      "source": [
        "def minion_game(string):\n",
        "    # your code goes here\n",
        "    player1=0\n",
        "    player2=0\n",
        "    str_len=len(string)\n",
        "    for i in range(str_len):\n",
        "        if s[i] in \"AEIOU\" :\n",
        "            player1+=(str_len)-i\n",
        "        else:\n",
        "            player2+=(str_len)-i\n",
        "\n",
        "    if player1>player2:\n",
        "        print(\"Kevin\",player1)\n",
        "    elif player1<player2:\n",
        "        print(\"Stuart\",player2)\n",
        "    else:\n",
        "        print(\"Draw\")\n",
        "\n",
        "if __name__ == '__main__':\n",
        "    s = input()\n",
        "    minion_game(s)\n"
      ],
      "metadata": {
        "colab": {
          "base_uri": "https://localhost:8080/"
        },
        "id": "veBzXCr1IaNW",
        "outputId": "cf5e70d9-241e-4491-91d6-2693406986a2"
      },
      "execution_count": 10,
      "outputs": [
        {
          "output_type": "stream",
          "name": "stdout",
          "text": [
            "BANNA\n",
            "Stuart 10\n"
          ]
        }
      ]
    }
  ]
}