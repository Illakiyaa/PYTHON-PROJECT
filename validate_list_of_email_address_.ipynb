{
  "nbformat": 4,
  "nbformat_minor": 0,
  "metadata": {
    "colab": {
      "provenance": [],
      "authorship_tag": "ABX9TyNu5ZoF++7aIbr3e4Oeo2e/",
      "include_colab_link": true
    },
    "kernelspec": {
      "name": "python3",
      "display_name": "Python 3"
    },
    "language_info": {
      "name": "python"
    }
  },
  "cells": [
    {
      "cell_type": "markdown",
      "metadata": {
        "id": "view-in-github",
        "colab_type": "text"
      },
      "source": [
        "<a href=\"https://colab.research.google.com/github/Illakiyaa/PYTHON-PROJECT/blob/main/validate_list_of_email_address_.ipynb\" target=\"_parent\"><img src=\"https://colab.research.google.com/assets/colab-badge.svg\" alt=\"Open In Colab\"/></a>"
      ]
    },
    {
      "cell_type": "markdown",
      "metadata": {
        "id": "gWgz9LH6uuet"
      },
      "source": [
        "#### validate list of email address\n",
        "\n",
        "\n",
        "\n"
      ]
    },
    {
      "cell_type": "code",
      "source": [
        "def fun(email):\n",
        "    # return True if s is a valid email, else return False\n",
        "    try:\n",
        "        username, url=email.split(\"@\")\n",
        "        website, extension=url.split(\".\")\n",
        "    except ValueError:\n",
        "        return False\n",
        "\n",
        "    if username.replace('-','').replace('_','').isalnum() is False:\n",
        "        return False\n",
        "    elif website.isalnum() is False:\n",
        "        return False\n",
        "    elif len(extension)>3:\n",
        "        return False\n",
        "    else:\n",
        "        return True\n",
        "\n",
        "def filter_mail(emails):\n",
        "    return list(filter(fun, emails))\n",
        "\n",
        "\n",
        "if __name__ == '__main__':\n",
        "    n = int(input())\n",
        "    emails = []\n",
        "    for _ in range(n):\n",
        "        emails.append(input())\n",
        "\n",
        "filtered_emails = filter_mail(emails)\n",
        "filtered_emails.sort()\n",
        "print(filtered_emails)\n"
      ],
      "metadata": {
        "colab": {
          "base_uri": "https://localhost:8080/"
        },
        "id": "veBzXCr1IaNW",
        "outputId": "98f09f38-f452-47bd-c8fd-f8e4c6eab75b"
      },
      "execution_count": 19,
      "outputs": [
        {
          "output_type": "stream",
          "name": "stdout",
          "text": [
            "2\n",
            "aerv34\n",
            "aert2@gmail.com\n",
            "['aert2@gmail.com']\n"
          ]
        }
      ]
    }
  ]
}